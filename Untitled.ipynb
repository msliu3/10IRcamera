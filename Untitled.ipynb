{
 "cells": [
  {
   "cell_type": "code",
   "execution_count": null,
   "metadata": {},
   "outputs": [],
   "source": [
    "print('hello world!')"
   ]
  },
  {
   "cell_type": "code",
   "execution_count": 15,
   "metadata": {},
   "outputs": [
    {
     "name": "stdout",
     "output_type": "stream",
     "text": [
      "11 11  4  9 10  9  8  8 10 11 11 12 13 10 12 12 12 13  9 12 13 10  9 10 11 11  7  9 11 13 11 13 \n",
      "10 11 11  7  9 11 13 11 13  9  8  8  8 10 11 10 12 13  9 10  9 14 12 13 15 13 13 10 11 10 11  9 \n",
      "13 15 13 13 10 11 10 11  9 10 10 11 10  8 13 16  8 11 14 12  8 10 11 12  9 10 11  9 11 13 12 12 \n",
      "12  9 10 11  9 11 13 12 12 24 27 17 14 11 16 17 15 10 10 11 12  9 11 17 16 11 10 14 11  8  8 12 \n",
      "17 16 11 10 14 11  8  8 12 10 10 11  9 10 11 14 12 13 26 32 19 13 14 20 23 18 11 11 11  9 10  8 \n",
      "20 23 18 11 11 11  9 10  8 14 14 15 14 10 11  9 10 11 11 10 12 10 11 17 22 19 13 24 32 25 17 16 \n",
      "17 22 19 13 24 32 25 17 16 23 31 22 12 10 10 10  9 10 10 11 13 11 12 10 10  8 11 11 10 11 10 12 \n",
      "10 10  8 11 11 10 11 10 12 19 29 22 15 24 32 26 17 15 23 31 23 11 11 10 10 10 11 11 11 16 13 12 \n",
      "10 10 10 11 11 11 16 13 12 10  8 10 12 12 12 12 14 12 21 30 27 19 23 32 30 22 15 24 31 24 12 10 \n",
      "32 30 22 15 24 31 24 12 10 10  9  7  8 11 11 17 15  7 10 10 11 12 10 12 13 14 15 20 27 29 21 21 \n",
      "12 13 14 15 20 27 29 21 21 32 32 23 17 27 32 25 12 11 11  8  9 10  9 10 16 13 12 11 10 11 12 13 \n",
      "10 16 13 12 11 10 11 12 13 14 13 23 24 17 22 31 27 21 31 33 27 21 29 32 24 11 10 10  7  7 12 11 \n",
      "32 24 11 10 10  7  7 12 11 10 16 16 12 10 10 11 11 12 13 15 27 30 19 23 33 30 20 29 34 26 21 29 \n",
      "23 33 30 20 29 34 26 21 29 31 24 10 10  9 10  9 11 11  9 15 16 13 12 11 11 14 13 15 16 28 32 22 \n",
      "11 11 14 13 15 16 28 32 22 21 35 33 21 28 34 30 25 31 32 23  9  9 12 16 20 14 10  9 10 11 13 13 \n",
      "16 20 14 10  9 10 11 13 13 11 13 14 15 14 17 25 31 27 22 33 34 24 29 34 32 31 34 31 23  9  9 18 \n",
      "34 32 31 34 31 23  9  9 18 25 24 17  9  9  8 10 11 14 13 15 14 15 15 16 22 26 31 27 30 35 33 34 \n",
      "16 22 26 31 27 30 35 33 34 37 37 37 37 32 25 10 11 22 30 24 18 11 12  9 10 14 14 12 12 14 14 16 \n",
      " 9 10 14 14 12 12 14 14 16 16 19 23 32 30 27 33 37 37 38 36 38 37 34 27 12 10 25 31 23 17 10  9 \n",
      "27 12 10 25 31 23 17 10  9 11 10 14 12 14 16 14 16 16 16 18 18 31 34 30 33 37 38 38 37 37 38 37 \n",
      "30 33 37 38 38 37 37 38 37 33 17 16 30 32 20 15 12 12 10 11 13 12 13 15 13 14 15 15 17 17 28 33 \n",
      "15 13 14 15 15 17 17 28 33 34 35 38 38 39 37 38 38 37 36 26 25 34 32 18 14 11 11 10 11 11 12 13 \n",
      "18 14 11 11 10 11 11 12 13 14 15 12 15 13 14 16 24 29 37 36 37 37 39 39 38 38 38 37 36 36 36 31 \n",
      "39 38 38 38 37 36 36 36 31 16 14 13 12 12 15 13 13 13 14 13 14 13 14 14 15 21 27 35 37 37 39 39 \n",
      "768\n",
      " 49  47   0  37  39  33  29  29  41  48  48  53  60  40  53  57  53  60  36  57  61  42  36  42  47  49  23  33  49  63  49  66 \n",
      " 42  47  49  23  33  49  63  49  66  32  27  28  30  42  45  39  54  59  34  40  36  67  52  60  76  60  60  40  47  42  45  31 \n",
      " 60  76  60  60  40  47  42  45  31  40  41  48  40  29  65  83  27  50  68  52  30  41  48  57  35  43  45  35  50  66  52  59 \n",
      " 57  35  43  45  35  50  66  52  59 140 166  94  69  51  83  91  75  41  44  48  52  34  46  88  83  49  43  67  48  25  27  59 \n",
      " 88  83  49  43  67  48  25  27  59  40  44  45  34  40  49  67  56  62 156 202 106  63  66 114 135 100  48  47  46  34  41  25 \n",
      "114 135 100  48  47  46  34  41  25  70  67  77  70  41  48  34  41  49  46  39  53  41  51  93 130 104  64 146 199 148  93  81 \n",
      " 93 130 104  64 146 199 148  93  81 137 190 129  53  39  42  41  30  38  44  45  60  51  56  43  43  27  48  47  44  50  40  58 \n",
      " 43  43  27  48  47  44  50  40  58 104 182 131  76 146 200 157  91  76 137 191 134  48  48  39  40  42  47  48  50  82  60  55 \n",
      " 39  40  42  47  48  50  82  60  55  40  29  41  53  54  55  57  68  57 117 184 164 107 134 199 185 126  79 143 196 140  52  40 \n",
      "199 185 126  79 143 196 140  52  40  44  34  17  27  49  47  89  74  22  38  40  45  57  42  56  64  73  75 111 161 175 123 122 \n",
      " 56  64  73  75 111 161 175 123 122 197 200 133  90 164 202 151  54  49  51  28  35  39  35  44  83  60  55  51  41  49  56  60 \n",
      " 44  83  60  55  51  41  49  56  60  70  64 137 145  93 128 193 161 122 191 206 161 119 178 201 141  47  44  37  21  21  52  46 \n",
      "201 141  47  44  37  21  21  52  46  39  83  85  59  44  40  48  48  55  62  77 161 185 108 138 208 183 116 177 215 159 117 181 \n",
      "138 208 183 116 177 215 159 117 181 194 142  42  42  30  40  36  50  45  32  78  86  61  54  46  48  73  61  75  86 170 200 129 \n",
      " 46  48  73  61  75  86 170 200 129 121 221 208 117 173 214 186 148 195 199 134  35  35  52  86 111  70  39  35  41  50  66  62 \n",
      " 86 111  70  39  35  41  50  66  62  49  65  69  75  72  90 149 193 164 125 206 214 141 175 218 202 192 212 195 138  35  31  99 \n",
      "218 202 192 212 195 138  35  31  99 149 142  88  32  33  28  42  47  73  65  79  71  74  75  83 130 154 193 161 184 221 207 214 \n",
      " 83 130 154 193 161 184 221 207 214 233 235 234 239 201 148  39  50 128 185 142 100  49  52  34  38  68  67  54  58  72  70  85 \n",
      " 34  38  68  67  54  58  72  70  85  81 109 137 197 183 165 210 235 239 242 231 241 237 215 161  54  43 146 192 133  88  44  31 \n",
      "161  54  43 146 192 133  88  44  31  45  37  72  57  73  83  69  83  84  84  97  99 192 212 186 209 236 247 243 238 236 246 240 \n",
      "186 209 236 247 243 238 236 246 240 207  91  87 183 199 112  78  55  55  41  48  60  54  60  76  66  70  79  77  89  92 173 210 \n",
      " 76  66  70  79  77  89  92 173 210 213 224 240 242 247 236 244 247 239 228 153 150 211 198  98  73  47  49  40  49  45  58  60 \n",
      " 98  73  47  49  40  49  45  58  60  70  74  57  74  64  69  86 141 182 236 233 235 239 249 249 241 242 243 240 225 228 226 194 \n",
      "249 241 242 243 240 225 228 226 194  82  67  65  57  57  74  63  63  63  70  63  72  63  71  72  75 117 166 224 237 238 252 250 \n"
     ]
    },
    {
     "ename": "IndexError",
     "evalue": "too many indices for array",
     "output_type": "error",
     "traceback": [
      "\u001b[1;31m---------------------------------------------------------------------------\u001b[0m",
      "\u001b[1;31mIndexError\u001b[0m                                Traceback (most recent call last)",
      "\u001b[1;32m<ipython-input-15-de88fbd0f88c>\u001b[0m in \u001b[0;36m<module>\u001b[1;34m\u001b[0m\n\u001b[0;32m     54\u001b[0m \u001b[1;33m\u001b[0m\u001b[0m\n\u001b[0;32m     55\u001b[0m \u001b[0mimg\u001b[0m \u001b[1;33m=\u001b[0m \u001b[0mnp\u001b[0m\u001b[1;33m.\u001b[0m\u001b[0masarray\u001b[0m\u001b[1;33m(\u001b[0m\u001b[0mimage2\u001b[0m\u001b[1;33m)\u001b[0m\u001b[1;33m\u001b[0m\u001b[1;33m\u001b[0m\u001b[0m\n\u001b[1;32m---> 56\u001b[1;33m \u001b[0mimg\u001b[0m \u001b[1;33m=\u001b[0m \u001b[0mimg\u001b[0m\u001b[1;33m[\u001b[0m\u001b[1;33m:\u001b[0m\u001b[1;33m,\u001b[0m\u001b[1;33m:\u001b[0m\u001b[1;33m,\u001b[0m\u001b[1;36m0\u001b[0m\u001b[1;33m]\u001b[0m\u001b[1;33m\u001b[0m\u001b[1;33m\u001b[0m\u001b[0m\n\u001b[0m\u001b[0;32m     57\u001b[0m \u001b[0mprint\u001b[0m\u001b[1;33m(\u001b[0m\u001b[1;34m'dim: '\u001b[0m\u001b[1;33m,\u001b[0m\u001b[0mimg\u001b[0m\u001b[1;33m.\u001b[0m\u001b[0mndim\u001b[0m\u001b[1;33m)\u001b[0m\u001b[1;33m\u001b[0m\u001b[1;33m\u001b[0m\u001b[0m\n\u001b[0;32m     58\u001b[0m \u001b[0mplt\u001b[0m\u001b[1;33m.\u001b[0m\u001b[0mimshow\u001b[0m\u001b[1;33m(\u001b[0m\u001b[0mimg\u001b[0m\u001b[1;33m,\u001b[0m \u001b[0mcmap\u001b[0m \u001b[1;33m=\u001b[0m \u001b[0mplt\u001b[0m\u001b[1;33m.\u001b[0m\u001b[0mcm\u001b[0m\u001b[1;33m.\u001b[0m\u001b[0mgray_r\u001b[0m\u001b[1;33m)\u001b[0m\u001b[1;33m\u001b[0m\u001b[1;33m\u001b[0m\u001b[0m\n",
      "\u001b[1;31mIndexError\u001b[0m: too many indices for array"
     ]
    }
   ],
   "source": [
    "import numpy as np\n",
    "from PIL import Image\n",
    "import cv2\n",
    "import matplotlib.pyplot as plt\n",
    "f = open('./fromdata1.0.txt', 'r')\n",
    "pic = f.read()\n",
    "# print(pic)\n",
    "frame = []\n",
    "#两个字节为一组\n",
    "for i in range(int(len(pic)/4)):\n",
    "    frame.append(pic[i*4:i*4+4])\n",
    "#list[string,string,string......]\n",
    "temp = []\n",
    "for i in range(2,771):\n",
    "    t = (int(frame[i][2:4],16)*256 + int(frame[i][0:2],16))/100\n",
    "    temp.append(t)\n",
    "env = temp.pop()\n",
    "temp2 = temp\n",
    "for i in range(0,24):\n",
    "    \n",
    "    for j in range(0,32):\n",
    "        print('%2d'%int(temp[j + i*23]),end=\" \")\n",
    "    print()\n",
    "\n",
    "print(len(temp2))\n",
    "maxtemp = max(temp)\n",
    "mintemp = min(temp)\n",
    "\n",
    "for i in range(len(temp)):\n",
    "        temp[i] = int((temp[i]-mintemp)/(maxtemp-mintemp)*255)\n",
    "\n",
    "for i in range(0,24):\n",
    "    \n",
    "    for j in range(0,32):\n",
    "        print('%3d'%int(temp[j + i*23]),end=\" \")\n",
    "    print()\n",
    "# =============================================================================\n",
    "# newtemp = []\n",
    "# for y in range(24):\n",
    "#     for x in range(32):\n",
    "#         newtemp.append(temp[31 - x + y*32])\n",
    "# data = np.array(newtemp).reshape(24,32)\n",
    "# =============================================================================\n",
    "\n",
    "data = np.array(temp).reshape(24,32)\n",
    "\n",
    "\n",
    "image2 = Image.fromarray(data)\n",
    "image2 = image2.resize((3200,2400))\n",
    "im = Image.open(\"./testpic.jpg\")\n",
    "image2.show()\n",
    "array = np.array(im)          # array is a numpy array \n",
    "#image2 = Image.fromarray(array)\n",
    "\n",
    "img = np.asarray(image2)\n",
    "img = img[:,:,0]\n",
    "print('dim: ',img.ndim)\n",
    "plt.imshow(img, cmap = plt.cm.gray_r)\n",
    "plt.show()\n",
    "# npimg = np.asarray(image2)\n",
    "# img = cv2.cvtColor(npimg,cv2.COLOR_RGB2BGR)  \n",
    "# cv2.imshow(\"OpenCV\",img)  \n",
    "# cv2.waitKey(-1)  "
   ]
  },
  {
   "cell_type": "code",
   "execution_count": 7,
   "metadata": {},
   "outputs": [
    {
     "data": {
      "text/plain": [
       "3200"
      ]
     },
     "execution_count": 7,
     "metadata": {},
     "output_type": "execute_result"
    }
   ],
   "source": [
    "len(npimg[0])"
   ]
  },
  {
   "cell_type": "code",
   "execution_count": null,
   "metadata": {},
   "outputs": [],
   "source": [
    "import cv2  \n",
    "from PIL import Image  \n",
    "import numpy  \n",
    "\n",
    "image = Image.open(\"./output.jpg\")  \n",
    "image.show()  \n",
    "img = cv2.cvtColor(numpy.asarray(image),cv2.COLOR_RGB2BGR)  \n",
    "cv2.imshow(\"OpenCV\",img)  \n",
    "cv2.waitKey(-1)\n",
    "# print(numpy.asarray(image))"
   ]
  },
  {
   "cell_type": "code",
   "execution_count": 42,
   "metadata": {},
   "outputs": [
    {
     "name": "stdout",
     "output_type": "stream",
     "text": [
      "[[[90 90 90]\n",
      "  [68 68 68]\n",
      "  [71 71 71]\n",
      "  ...\n",
      "  [72 72 70]\n",
      "  [72 73 68]\n",
      "  [72 73 68]]\n",
      "\n",
      " [[27 27 27]\n",
      "  [ 2  2  2]\n",
      "  [ 0  0  0]\n",
      "  ...\n",
      "  [ 1  1  0]\n",
      "  [ 1  2  0]\n",
      "  [ 1  2  0]]\n",
      "\n",
      " [[33 33 33]\n",
      "  [ 3  3  3]\n",
      "  [ 0  0  0]\n",
      "  ...\n",
      "  [ 0  0  0]\n",
      "  [ 0  0  0]\n",
      "  [ 0  0  0]]\n",
      "\n",
      " ...\n",
      "\n",
      " [[30 30 30]\n",
      "  [ 2  2  2]\n",
      "  [ 0  0  0]\n",
      "  ...\n",
      "  [ 0  0  0]\n",
      "  [ 0  0  0]\n",
      "  [ 0  0  0]]\n",
      "\n",
      " [[30 30 30]\n",
      "  [ 2  2  2]\n",
      "  [ 0  0  0]\n",
      "  ...\n",
      "  [ 0  0  0]\n",
      "  [ 0  0  0]\n",
      "  [ 0  0  0]]\n",
      "\n",
      " [[30 30 30]\n",
      "  [ 2  2  2]\n",
      "  [ 0  0  0]\n",
      "  ...\n",
      "  [ 0  0  0]\n",
      "  [ 0  0  0]\n",
      "  [ 0  0  0]]]\n"
     ]
    },
    {
     "data": {
      "image/png": "[encoded data removed]",
      "text/plain": [
       "<Figure size 432x288 with 1 Axes>"
      ]
     },
     "metadata": {
      "needs_background": "light"
     },
     "output_type": "display_data"
    }
   ],
   "source": [
    "from PIL import Image\n",
    "import numpy as np\n",
    "import matplotlib.pyplot as plt\n",
    "\n",
    "img = Image.open(\"./testpic.jpg\")\n",
    "img = np.array(img)\n",
    "print(img)\n",
    "if img.ndim == 3:\n",
    "    img = img[:,:,0]\n",
    "\n",
    "plt.imshow(img, cmap = plt.cm.gray_r)\n",
    "plt.show()\n"
   ]
  },
  {
   "cell_type": "code",
   "execution_count": 39,
   "metadata": {},
   "outputs": [
    {
     "name": "stdout",
     "output_type": "stream",
     "text": [
      "[[1 2 3 4]\n",
      " [5 6 7 8]]\n",
      "\n",
      "[[[1 1 1]\n",
      "  [2 2 2]\n",
      "  [3 3 3]\n",
      "  [4 4 4]]\n",
      "\n",
      " [[5 5 5]\n",
      "  [6 6 6]\n",
      "  [7 7 7]\n",
      "  [8 8 8]]]\n"
     ]
    }
   ],
   "source": [
    "a = np.array([1,2,3,4,5,6,7,8])\n",
    "d = a.reshape(2,4)\n",
    "print(d)\n",
    "print()\n",
    "e = np.array([a,a,a]).T\n",
    "print(e.reshape(2,4,3))"
   ]
  },
  {
   "cell_type": "code",
   "execution_count": null,
   "metadata": {},
   "outputs": [],
   "source": []
  }
 ],
 "metadata": {
  "kernelspec": {
   "display_name": "Python 3",
   "language": "python",
   "name": "python3"
  },
  "language_info": {
   "codemirror_mode": {
    "name": "ipython",
    "version": 3
   },
   "file_extension": ".py",
   "mimetype": "text/x-python",
   "name": "python",
   "nbconvert_exporter": "python",
   "pygments_lexer": "ipython3",
   "version": "3.6.7"
  }
 },
 "nbformat": 4,
 "nbformat_minor": 2
}
